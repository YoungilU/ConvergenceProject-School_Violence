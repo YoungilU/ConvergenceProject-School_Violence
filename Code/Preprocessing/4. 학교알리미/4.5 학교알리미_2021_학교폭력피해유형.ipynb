{
 "cells": [
  {
   "cell_type": "markdown",
   "id": "ef62631e-285e-43c5-a19d-dfb45ea4dd87",
   "metadata": {},
   "source": [
    "# 학교알리미 학교폭력피해유형\n",
    "- 데이터 \n",
    "    - 학교알리미_2021_서울_학교폭력피해유형.csv(DataPreprocessing)\n",
    "    - 학교알리미_2021_서울_시군구별_학교폭력피해유형.csv(DataPreprocessing)"
   ]
  },
  {
   "cell_type": "code",
   "execution_count": 1,
   "id": "96402199-5c59-402d-a0a1-fc4e303e045b",
   "metadata": {
    "execution": {
     "iopub.execute_input": "2023-03-14T09:56:19.372717Z",
     "iopub.status.busy": "2023-03-14T09:56:19.371724Z",
     "iopub.status.idle": "2023-03-14T09:56:19.894006Z",
     "shell.execute_reply": "2023-03-14T09:56:19.893011Z",
     "shell.execute_reply.started": "2023-03-14T09:56:19.372717Z"
    },
    "tags": []
   },
   "outputs": [],
   "source": [
    "import pandas as pd\n",
    "import numpy as np"
   ]
  },
  {
   "cell_type": "code",
   "execution_count": 2,
   "id": "cf0ea7fe-11b7-49db-8c6f-20dfb52af18f",
   "metadata": {
    "execution": {
     "iopub.execute_input": "2023-03-14T09:56:19.895997Z",
     "iopub.status.busy": "2023-03-14T09:56:19.895997Z",
     "iopub.status.idle": "2023-03-14T09:56:21.742098Z",
     "shell.execute_reply": "2023-03-14T09:56:21.740590Z",
     "shell.execute_reply.started": "2023-03-14T09:56:19.895997Z"
    },
    "tags": []
   },
   "outputs": [
    {
     "ename": "FileNotFoundError",
     "evalue": "[Errno 2] No such file or directory: 'D:/MultiCampus/DATAexam/융복합/ConvergenceProject-School_Violence-main/Data/1. Crawling_Data/1.4 학교폭력 피해유형/피해유형/동작구_학교폭력_실태조사_피해유형(복수응답).xlsx'",
     "output_type": "error",
     "traceback": [
      "\u001b[1;31m---------------------------------------------------------------------------\u001b[0m",
      "\u001b[1;31mFileNotFoundError\u001b[0m                         Traceback (most recent call last)",
      "Cell \u001b[1;32mIn [2], line 12\u001b[0m\n\u001b[0;32m     10\u001b[0m df10 \u001b[38;5;241m=\u001b[39m pd\u001b[38;5;241m.\u001b[39mread_excel(\u001b[38;5;124m\"\u001b[39m\u001b[38;5;124mD:/MultiCampus/DATAexam/융복합/ConvergenceProject-School_Violence-main/Data/1. Crawling_Data/1.4 학교폭력 피해유형/도봉구_학교폭력_실태조사_피해유형(복수응답).xlsx\u001b[39m\u001b[38;5;124m\"\u001b[39m)\n\u001b[0;32m     11\u001b[0m df11 \u001b[38;5;241m=\u001b[39m pd\u001b[38;5;241m.\u001b[39mread_excel(\u001b[38;5;124m\"\u001b[39m\u001b[38;5;124mD:/MultiCampus/DATAexam/융복합/ConvergenceProject-School_Violence-main/Data/1. Crawling_Data/1.4 학교폭력 피해유형/동대문구_학교폭력_실태조사_피해유형(복수응답).xlsx\u001b[39m\u001b[38;5;124m\"\u001b[39m)\n\u001b[1;32m---> 12\u001b[0m df12 \u001b[38;5;241m=\u001b[39m \u001b[43mpd\u001b[49m\u001b[38;5;241;43m.\u001b[39;49m\u001b[43mread_excel\u001b[49m\u001b[43m(\u001b[49m\u001b[38;5;124;43m\"\u001b[39;49m\u001b[38;5;124;43mD:/MultiCampus/DATAexam/융복합/ConvergenceProject-School_Violence-main/Data/1. Crawling_Data/1.4 학교폭력 피해유형/피해유형/동작구_학교폭력_실태조사_피해유형(복수응답).xlsx\u001b[39;49m\u001b[38;5;124;43m\"\u001b[39;49m\u001b[43m)\u001b[49m\n\u001b[0;32m     13\u001b[0m df13 \u001b[38;5;241m=\u001b[39m pd\u001b[38;5;241m.\u001b[39mread_excel(\u001b[38;5;124m\"\u001b[39m\u001b[38;5;124mD:/MultiCampus/DATAexam/융복합/ConvergenceProject-School_Violence-main/Data/1. Crawling_Data/1.4 학교폭력 피해유형/마포구_학교폭력_실태조사_피해유형(복수응답).xlsx\u001b[39m\u001b[38;5;124m\"\u001b[39m)\n\u001b[0;32m     14\u001b[0m df14 \u001b[38;5;241m=\u001b[39m pd\u001b[38;5;241m.\u001b[39mread_excel(\u001b[38;5;124m\"\u001b[39m\u001b[38;5;124mD:/MultiCampus/DATAexam/융복합/ConvergenceProject-School_Violence-main/Data/1. Crawling_Data/1.4 학교폭력 피해유형/서대문구_학교폭력_실태조사_피해유형(복수응답).xlsx\u001b[39m\u001b[38;5;124m\"\u001b[39m)\n",
      "File \u001b[1;32m~\\anaconda3\\envs\\data_venv\\lib\\site-packages\\pandas\\util\\_decorators.py:311\u001b[0m, in \u001b[0;36mdeprecate_nonkeyword_arguments.<locals>.decorate.<locals>.wrapper\u001b[1;34m(*args, **kwargs)\u001b[0m\n\u001b[0;32m    305\u001b[0m \u001b[38;5;28;01mif\u001b[39;00m \u001b[38;5;28mlen\u001b[39m(args) \u001b[38;5;241m>\u001b[39m num_allow_args:\n\u001b[0;32m    306\u001b[0m     warnings\u001b[38;5;241m.\u001b[39mwarn(\n\u001b[0;32m    307\u001b[0m         msg\u001b[38;5;241m.\u001b[39mformat(arguments\u001b[38;5;241m=\u001b[39marguments),\n\u001b[0;32m    308\u001b[0m         \u001b[38;5;167;01mFutureWarning\u001b[39;00m,\n\u001b[0;32m    309\u001b[0m         stacklevel\u001b[38;5;241m=\u001b[39mstacklevel,\n\u001b[0;32m    310\u001b[0m     )\n\u001b[1;32m--> 311\u001b[0m \u001b[38;5;28;01mreturn\u001b[39;00m func(\u001b[38;5;241m*\u001b[39margs, \u001b[38;5;241m*\u001b[39m\u001b[38;5;241m*\u001b[39mkwargs)\n",
      "File \u001b[1;32m~\\anaconda3\\envs\\data_venv\\lib\\site-packages\\pandas\\io\\excel\\_base.py:457\u001b[0m, in \u001b[0;36mread_excel\u001b[1;34m(io, sheet_name, header, names, index_col, usecols, squeeze, dtype, engine, converters, true_values, false_values, skiprows, nrows, na_values, keep_default_na, na_filter, verbose, parse_dates, date_parser, thousands, decimal, comment, skipfooter, convert_float, mangle_dupe_cols, storage_options)\u001b[0m\n\u001b[0;32m    455\u001b[0m \u001b[38;5;28;01mif\u001b[39;00m \u001b[38;5;129;01mnot\u001b[39;00m \u001b[38;5;28misinstance\u001b[39m(io, ExcelFile):\n\u001b[0;32m    456\u001b[0m     should_close \u001b[38;5;241m=\u001b[39m \u001b[38;5;28;01mTrue\u001b[39;00m\n\u001b[1;32m--> 457\u001b[0m     io \u001b[38;5;241m=\u001b[39m \u001b[43mExcelFile\u001b[49m\u001b[43m(\u001b[49m\u001b[43mio\u001b[49m\u001b[43m,\u001b[49m\u001b[43m \u001b[49m\u001b[43mstorage_options\u001b[49m\u001b[38;5;241;43m=\u001b[39;49m\u001b[43mstorage_options\u001b[49m\u001b[43m,\u001b[49m\u001b[43m \u001b[49m\u001b[43mengine\u001b[49m\u001b[38;5;241;43m=\u001b[39;49m\u001b[43mengine\u001b[49m\u001b[43m)\u001b[49m\n\u001b[0;32m    458\u001b[0m \u001b[38;5;28;01melif\u001b[39;00m engine \u001b[38;5;129;01mand\u001b[39;00m engine \u001b[38;5;241m!=\u001b[39m io\u001b[38;5;241m.\u001b[39mengine:\n\u001b[0;32m    459\u001b[0m     \u001b[38;5;28;01mraise\u001b[39;00m \u001b[38;5;167;01mValueError\u001b[39;00m(\n\u001b[0;32m    460\u001b[0m         \u001b[38;5;124m\"\u001b[39m\u001b[38;5;124mEngine should not be specified when passing \u001b[39m\u001b[38;5;124m\"\u001b[39m\n\u001b[0;32m    461\u001b[0m         \u001b[38;5;124m\"\u001b[39m\u001b[38;5;124man ExcelFile - ExcelFile already has the engine set\u001b[39m\u001b[38;5;124m\"\u001b[39m\n\u001b[0;32m    462\u001b[0m     )\n",
      "File \u001b[1;32m~\\anaconda3\\envs\\data_venv\\lib\\site-packages\\pandas\\io\\excel\\_base.py:1376\u001b[0m, in \u001b[0;36mExcelFile.__init__\u001b[1;34m(self, path_or_buffer, engine, storage_options)\u001b[0m\n\u001b[0;32m   1374\u001b[0m     ext \u001b[38;5;241m=\u001b[39m \u001b[38;5;124m\"\u001b[39m\u001b[38;5;124mxls\u001b[39m\u001b[38;5;124m\"\u001b[39m\n\u001b[0;32m   1375\u001b[0m \u001b[38;5;28;01melse\u001b[39;00m:\n\u001b[1;32m-> 1376\u001b[0m     ext \u001b[38;5;241m=\u001b[39m \u001b[43minspect_excel_format\u001b[49m\u001b[43m(\u001b[49m\n\u001b[0;32m   1377\u001b[0m \u001b[43m        \u001b[49m\u001b[43mcontent_or_path\u001b[49m\u001b[38;5;241;43m=\u001b[39;49m\u001b[43mpath_or_buffer\u001b[49m\u001b[43m,\u001b[49m\u001b[43m \u001b[49m\u001b[43mstorage_options\u001b[49m\u001b[38;5;241;43m=\u001b[39;49m\u001b[43mstorage_options\u001b[49m\n\u001b[0;32m   1378\u001b[0m \u001b[43m    \u001b[49m\u001b[43m)\u001b[49m\n\u001b[0;32m   1379\u001b[0m     \u001b[38;5;28;01mif\u001b[39;00m ext \u001b[38;5;129;01mis\u001b[39;00m \u001b[38;5;28;01mNone\u001b[39;00m:\n\u001b[0;32m   1380\u001b[0m         \u001b[38;5;28;01mraise\u001b[39;00m \u001b[38;5;167;01mValueError\u001b[39;00m(\n\u001b[0;32m   1381\u001b[0m             \u001b[38;5;124m\"\u001b[39m\u001b[38;5;124mExcel file format cannot be determined, you must specify \u001b[39m\u001b[38;5;124m\"\u001b[39m\n\u001b[0;32m   1382\u001b[0m             \u001b[38;5;124m\"\u001b[39m\u001b[38;5;124man engine manually.\u001b[39m\u001b[38;5;124m\"\u001b[39m\n\u001b[0;32m   1383\u001b[0m         )\n",
      "File \u001b[1;32m~\\anaconda3\\envs\\data_venv\\lib\\site-packages\\pandas\\io\\excel\\_base.py:1250\u001b[0m, in \u001b[0;36minspect_excel_format\u001b[1;34m(content_or_path, storage_options)\u001b[0m\n\u001b[0;32m   1247\u001b[0m \u001b[38;5;28;01mif\u001b[39;00m \u001b[38;5;28misinstance\u001b[39m(content_or_path, \u001b[38;5;28mbytes\u001b[39m):\n\u001b[0;32m   1248\u001b[0m     content_or_path \u001b[38;5;241m=\u001b[39m BytesIO(content_or_path)\n\u001b[1;32m-> 1250\u001b[0m \u001b[38;5;28;01mwith\u001b[39;00m \u001b[43mget_handle\u001b[49m\u001b[43m(\u001b[49m\n\u001b[0;32m   1251\u001b[0m \u001b[43m    \u001b[49m\u001b[43mcontent_or_path\u001b[49m\u001b[43m,\u001b[49m\u001b[43m \u001b[49m\u001b[38;5;124;43m\"\u001b[39;49m\u001b[38;5;124;43mrb\u001b[39;49m\u001b[38;5;124;43m\"\u001b[39;49m\u001b[43m,\u001b[49m\u001b[43m \u001b[49m\u001b[43mstorage_options\u001b[49m\u001b[38;5;241;43m=\u001b[39;49m\u001b[43mstorage_options\u001b[49m\u001b[43m,\u001b[49m\u001b[43m \u001b[49m\u001b[43mis_text\u001b[49m\u001b[38;5;241;43m=\u001b[39;49m\u001b[38;5;28;43;01mFalse\u001b[39;49;00m\n\u001b[0;32m   1252\u001b[0m \u001b[43m\u001b[49m\u001b[43m)\u001b[49m \u001b[38;5;28;01mas\u001b[39;00m handle:\n\u001b[0;32m   1253\u001b[0m     stream \u001b[38;5;241m=\u001b[39m handle\u001b[38;5;241m.\u001b[39mhandle\n\u001b[0;32m   1254\u001b[0m     stream\u001b[38;5;241m.\u001b[39mseek(\u001b[38;5;241m0\u001b[39m)\n",
      "File \u001b[1;32m~\\anaconda3\\envs\\data_venv\\lib\\site-packages\\pandas\\io\\common.py:798\u001b[0m, in \u001b[0;36mget_handle\u001b[1;34m(path_or_buf, mode, encoding, compression, memory_map, is_text, errors, storage_options)\u001b[0m\n\u001b[0;32m    789\u001b[0m         handle \u001b[38;5;241m=\u001b[39m \u001b[38;5;28mopen\u001b[39m(\n\u001b[0;32m    790\u001b[0m             handle,\n\u001b[0;32m    791\u001b[0m             ioargs\u001b[38;5;241m.\u001b[39mmode,\n\u001b[1;32m   (...)\u001b[0m\n\u001b[0;32m    794\u001b[0m             newline\u001b[38;5;241m=\u001b[39m\u001b[38;5;124m\"\u001b[39m\u001b[38;5;124m\"\u001b[39m,\n\u001b[0;32m    795\u001b[0m         )\n\u001b[0;32m    796\u001b[0m     \u001b[38;5;28;01melse\u001b[39;00m:\n\u001b[0;32m    797\u001b[0m         \u001b[38;5;66;03m# Binary mode\u001b[39;00m\n\u001b[1;32m--> 798\u001b[0m         handle \u001b[38;5;241m=\u001b[39m \u001b[38;5;28;43mopen\u001b[39;49m\u001b[43m(\u001b[49m\u001b[43mhandle\u001b[49m\u001b[43m,\u001b[49m\u001b[43m \u001b[49m\u001b[43mioargs\u001b[49m\u001b[38;5;241;43m.\u001b[39;49m\u001b[43mmode\u001b[49m\u001b[43m)\u001b[49m\n\u001b[0;32m    799\u001b[0m     handles\u001b[38;5;241m.\u001b[39mappend(handle)\n\u001b[0;32m    801\u001b[0m \u001b[38;5;66;03m# Convert BytesIO or file objects passed with an encoding\u001b[39;00m\n",
      "\u001b[1;31mFileNotFoundError\u001b[0m: [Errno 2] No such file or directory: 'D:/MultiCampus/DATAexam/융복합/ConvergenceProject-School_Violence-main/Data/1. Crawling_Data/1.4 학교폭력 피해유형/피해유형/동작구_학교폭력_실태조사_피해유형(복수응답).xlsx'"
     ]
    }
   ],
   "source": [
    "df1 = pd.read_excel(\"D:/MultiCampus/DATAexam/융복합/ConvergenceProject-School_Violence-main/Data/1. Crawling_Data/1.4 학교폭력 피해유형/강남구_학교폭력_실태조사_피해유형(복수응답).xlsx\")\n",
    "df2 = pd.read_excel(\"D:/MultiCampus/DATAexam/융복합/ConvergenceProject-School_Violence-main/Data/1. Crawling_Data/1.4 학교폭력 피해유형/강동구_학교폭력_실태조사_피해유형(복수응답).xlsx\")\n",
    "df3 = pd.read_excel(\"D:/MultiCampus/DATAexam/융복합/ConvergenceProject-School_Violence-main/Data/1. Crawling_Data/1.4 학교폭력 피해유형/강북구_학교폭력_실태조사_피해유형(복수응답).xlsx\")\n",
    "df4 = pd.read_excel(\"D:/MultiCampus/DATAexam/융복합/ConvergenceProject-School_Violence-main/Data/1. Crawling_Data/1.4 학교폭력 피해유형/강서구_학교폭력_실태조사_피해유형(복수응답).xlsx\")\n",
    "df5 = pd.read_excel(\"D:/MultiCampus/DATAexam/융복합/ConvergenceProject-School_Violence-main/Data/1. Crawling_Data/1.4 학교폭력 피해유형/관악구_학교폭력_실태조사_피해유형(복수응답).xlsx\")\n",
    "df6 = pd.read_excel(\"D:/MultiCampus/DATAexam/융복합/ConvergenceProject-School_Violence-main/Data/1. Crawling_Data/1.4 학교폭력 피해유형/광진구_학교폭력_실태조사_피해유형(복수응답).xlsx\")\n",
    "df7 = pd.read_excel(\"D:/MultiCampus/DATAexam/융복합/ConvergenceProject-School_Violence-main/Data/1. Crawling_Data/1.4 학교폭력 피해유형/구로구_학교폭력_실태조사_피해유형(복수응답).xlsx\")\n",
    "df8 = pd.read_excel(\"D:/MultiCampus/DATAexam/융복합/ConvergenceProject-School_Violence-main/Data/1. Crawling_Data/1.4 학교폭력 피해유형/금천구_학교폭력_실태조사_피해유형(복수응답).xlsx\")\n",
    "df9 = pd.read_excel(\"D:/MultiCampus/DATAexam/융복합/ConvergenceProject-School_Violence-main/Data/1. Crawling_Data/1.4 학교폭력 피해유형/노원구_학교폭력_실태조사_피해유형(복수응답).xlsx\")\n",
    "df10 = pd.read_excel(\"D:/MultiCampus/DATAexam/융복합/ConvergenceProject-School_Violence-main/Data/1. Crawling_Data/1.4 학교폭력 피해유형/도봉구_학교폭력_실태조사_피해유형(복수응답).xlsx\")\n",
    "df11 = pd.read_excel(\"D:/MultiCampus/DATAexam/융복합/ConvergenceProject-School_Violence-main/Data/1. Crawling_Data/1.4 학교폭력 피해유형/동대문구_학교폭력_실태조사_피해유형(복수응답).xlsx\")\n",
    "df12 = pd.read_excel(\"D:/MultiCampus/DATAexam/융복합/ConvergenceProject-School_Violence-main/Data/1. Crawling_Data/1.4 학교폭력 피해유형/피해유형/동작구_학교폭력_실태조사_피해유형(복수응답).xlsx\")\n",
    "df13 = pd.read_excel(\"D:/MultiCampus/DATAexam/융복합/ConvergenceProject-School_Violence-main/Data/1. Crawling_Data/1.4 학교폭력 피해유형/마포구_학교폭력_실태조사_피해유형(복수응답).xlsx\")\n",
    "df14 = pd.read_excel(\"D:/MultiCampus/DATAexam/융복합/ConvergenceProject-School_Violence-main/Data/1. Crawling_Data/1.4 학교폭력 피해유형/서대문구_학교폭력_실태조사_피해유형(복수응답).xlsx\")\n",
    "df15 = pd.read_excel(\"D:/MultiCampus/DATAexam/융복합/ConvergenceProject-School_Violence-main/Data/1. Crawling_Data/1.4 학교폭력 피해유형/서초구_학교폭력_실태조사_피해유형(복수응답).xlsx\")\n",
    "df16 = pd.read_excel(\"D:/MultiCampus/DATAexam/융복합/ConvergenceProject-School_Violence-main/Data/1. Crawling_Data/1.4 학교폭력 피해유형/성동구_학교폭력_실태조사_피해유형(복수응답).xlsx\")\n",
    "df17 = pd.read_excel(\"D:/MultiCampus/DATAexam/융복합/ConvergenceProject-School_Violence-main/Data/1. Crawling_Data/1.4 학교폭력 피해유형/성북구_학교폭력_실태조사_피해유형(복수응답).xlsx\")\n",
    "df18 = pd.read_excel(\"D:/MultiCampus/DATAexam/융복합/ConvergenceProject-School_Violence-main/Data/1. Crawling_Data/1.4 학교폭력 피해유형/송파구_학교폭력_실태조사_피해유형(복수응답).xlsx\")\n",
    "df19 = pd.read_excel(\"D:/MultiCampus/DATAexam/융복합/ConvergenceProject-School_Violence-main/Data/1. Crawling_Data/1.4 학교폭력 피해유형/양천구_학교폭력_실태조사_피해유형(복수응답).xlsx\")\n",
    "df20 = pd.read_excel(\"D:/MultiCampus/DATAexam/융복합/ConvergenceProject-School_Violence-main/Data/1. Crawling_Data/1.4 학교폭력 피해유형/영등포구_학교폭력_실태조사_피해유형(복수응답).xlsx\")\n",
    "df21 = pd.read_excel(\"D:/MultiCampus/DATAexam/융복합/ConvergenceProject-School_Violence-main/Data/1. Crawling_Data/1.4 학교폭력 피해유형/용산구_학교폭력_실태조사_피해유형(복수응답).xlsx\")\n",
    "df22 = pd.read_excel(\"D:/MultiCampus/DATAexam/융복합/ConvergenceProject-School_Violence-main/Data/1. Crawling_Data/1.4 학교폭력 피해유형/은평구_학교폭력_실태조사_피해유형(복수응답).xlsx\")\n",
    "df23 = pd.read_excel(\"D:/MultiCampus/DATAexam/융복합/ConvergenceProject-School_Violence-main/Data/1. Crawling_Data/1.4 학교폭력 피해유형/종로구_학교폭력_실태조사_피해유형(복수응답).xlsx\")\n",
    "df24 = pd.read_excel(\"D:/MultiCampus/DATAexam/융복합/ConvergenceProject-School_Violence-main/Data/1. Crawling_Data/1.4 학교폭력 피해유형/중구_학교폭력_실태조사_피해유형(복수응답).xlsx\")\n",
    "df25 = pd.read_excel(\"D:/MultiCampus/DATAexam/융복합/ConvergenceProject-School_Violence-main/Data/1. Crawling_Data/1.4 학교폭력 피해유형/중랑구_학교폭력_실태조사_피해유형(복수응답).xlsx\")"
   ]
  },
  {
   "cell_type": "code",
   "execution_count": null,
   "id": "c2abfa86-2820-4054-ac10-179d0d49f530",
   "metadata": {
    "execution": {
     "iopub.status.busy": "2023-03-14T09:56:21.743098Z",
     "iopub.status.idle": "2023-03-14T09:56:21.743098Z",
     "shell.execute_reply": "2023-03-14T09:56:21.743098Z",
     "shell.execute_reply.started": "2023-03-14T09:56:21.743098Z"
    },
    "tags": []
   },
   "outputs": [],
   "source": [
    "type_df = pd.concat([df1,df2,df3,df4,df5,df6,df7,df8,df9,df10,\n",
    "                           df11,df12,df13,df14,df15,df16,df17,df18,\n",
    "                           df19,df20,df21,df22,df23,df24,df25], ignore_index=True)\n",
    "type_df"
   ]
  },
  {
   "cell_type": "code",
   "execution_count": null,
   "id": "c05e1199-6cdf-4304-a24f-dacf62635191",
   "metadata": {
    "execution": {
     "iopub.status.busy": "2023-03-14T09:56:21.744097Z",
     "iopub.status.idle": "2023-03-14T09:56:21.745093Z",
     "shell.execute_reply": "2023-03-14T09:56:21.744097Z",
     "shell.execute_reply.started": "2023-03-14T09:56:21.744097Z"
    },
    "tags": []
   },
   "outputs": [],
   "source": [
    "type_df.drop(['Unnamed: 0'], axis = 1,inplace=True)\n",
    "type_df"
   ]
  },
  {
   "cell_type": "code",
   "execution_count": null,
   "id": "7e189bf8-658d-42eb-b630-78c64cb3f178",
   "metadata": {
    "execution": {
     "iopub.status.busy": "2023-03-14T09:56:21.745093Z",
     "iopub.status.idle": "2023-03-14T09:56:21.746091Z",
     "shell.execute_reply": "2023-03-14T09:56:21.746091Z",
     "shell.execute_reply.started": "2023-03-14T09:56:21.746091Z"
    },
    "tags": []
   },
   "outputs": [],
   "source": [
    "type_df.rename(columns = {'구':'시군구'},inplace=True)\n",
    "type_df"
   ]
  },
  {
   "cell_type": "code",
   "execution_count": null,
   "id": "d0802a28-017d-46b4-a495-5842f01b5ce5",
   "metadata": {
    "execution": {
     "iopub.status.busy": "2023-03-14T09:56:21.746091Z",
     "iopub.status.idle": "2023-03-14T09:56:21.747088Z",
     "shell.execute_reply": "2023-03-14T09:56:21.747088Z",
     "shell.execute_reply.started": "2023-03-14T09:56:21.747088Z"
    },
    "tags": []
   },
   "outputs": [],
   "source": [
    "type_df.replace('은일정보산업고등학교', '유한공업고등학교',inplace=True)"
   ]
  },
  {
   "cell_type": "code",
   "execution_count": null,
   "id": "cea9bd88-206e-493d-b0ff-80b6e685dba3",
   "metadata": {
    "execution": {
     "iopub.status.busy": "2023-03-14T09:56:21.747088Z",
     "iopub.status.idle": "2023-03-14T09:56:21.748085Z",
     "shell.execute_reply": "2023-03-14T09:56:21.748085Z",
     "shell.execute_reply.started": "2023-03-14T09:56:21.748085Z"
    },
    "tags": []
   },
   "outputs": [],
   "source": [
    "# 저장 후 주석처리\n",
    "# type_df.to_csv(\"D:/MultiCampus/DATAexam/융복합/ConvergenceProject-School_Violence-main/Data/2. Preprocessing_Data/Data/학교알리미_2021_서울_학교폭력피해유형.csv\", index=False)"
   ]
  },
  {
   "cell_type": "markdown",
   "id": "f0b90921-5610-4ccd-969a-074e6197036b",
   "metadata": {},
   "source": [
    "# 시군구 별 학교폭력피해유형"
   ]
  },
  {
   "cell_type": "code",
   "execution_count": null,
   "id": "5f2ae00d-4114-479b-85fb-c339147a2b2c",
   "metadata": {
    "execution": {
     "iopub.status.busy": "2023-03-14T09:56:21.749082Z",
     "iopub.status.idle": "2023-03-14T09:56:21.749082Z",
     "shell.execute_reply": "2023-03-14T09:56:21.749082Z",
     "shell.execute_reply.started": "2023-03-14T09:56:21.749082Z"
    },
    "tags": []
   },
   "outputs": [],
   "source": [
    "import pandas as pd\n",
    "import numpy as np"
   ]
  },
  {
   "cell_type": "code",
   "execution_count": null,
   "id": "37354db4-088a-49a2-acbc-63e728fbe779",
   "metadata": {
    "execution": {
     "iopub.status.busy": "2023-03-14T09:56:21.750080Z",
     "iopub.status.idle": "2023-03-14T09:56:21.750080Z",
     "shell.execute_reply": "2023-03-14T09:56:21.750080Z",
     "shell.execute_reply.started": "2023-03-14T09:56:21.750080Z"
    },
    "tags": []
   },
   "outputs": [],
   "source": [
    "type_df2 = pd.read_csv(\"D:/MultiCampus/DATAexam/융복합/ConvergenceProject-School_Violence-main/Data/2. Preprocessing_Data/Data/학교알리미_2021_서울_학교폭력피해유형.csv\")\n",
    "type_df2"
   ]
  },
  {
   "cell_type": "code",
   "execution_count": null,
   "id": "2f3d0b6b-50a0-43ae-8390-39aae9b2826a",
   "metadata": {
    "execution": {
     "iopub.status.busy": "2023-03-14T09:56:21.751078Z",
     "iopub.status.idle": "2023-03-14T09:56:21.751078Z",
     "shell.execute_reply": "2023-03-14T09:56:21.751078Z",
     "shell.execute_reply.started": "2023-03-14T09:56:21.751078Z"
    },
    "tags": []
   },
   "outputs": [],
   "source": [
    "type_df3 = type_df2.groupby([\"시군구\"]).agg({\"강요\":\"sum\",\"금품갈취\":\"sum\",\"신체폭력\":\"sum\",\"사이버폭력\":\"sum\",\"집단따돌림\":\"sum\",\"기타\":\"sum\"}).reset_index()\n",
    "type_df3"
   ]
  },
  {
   "cell_type": "code",
   "execution_count": null,
   "id": "9c3e29ee-09e8-4308-8a60-afda5ccc0484",
   "metadata": {
    "execution": {
     "iopub.status.busy": "2023-03-14T09:56:21.752075Z",
     "iopub.status.idle": "2023-03-14T09:56:21.752075Z",
     "shell.execute_reply": "2023-03-14T09:56:21.752075Z",
     "shell.execute_reply.started": "2023-03-14T09:56:21.752075Z"
    },
    "tags": []
   },
   "outputs": [],
   "source": [
    "type_df3.rename(columns = {'기타':'피해유형기타'},inplace=True)\n",
    "type_df3"
   ]
  },
  {
   "cell_type": "code",
   "execution_count": null,
   "id": "863ec705-57d4-45fd-849e-4946e0615c1d",
   "metadata": {
    "execution": {
     "iopub.status.busy": "2023-03-14T09:56:21.754069Z",
     "iopub.status.idle": "2023-03-14T09:56:21.754069Z",
     "shell.execute_reply": "2023-03-14T09:56:21.754069Z",
     "shell.execute_reply.started": "2023-03-14T09:56:21.754069Z"
    }
   },
   "outputs": [],
   "source": [
    "type_df3['피해유형합계']=type_df3.sum(axis=1)\n",
    "type_df3"
   ]
  },
  {
   "cell_type": "code",
   "execution_count": null,
   "id": "8da6611c-6dbd-44f6-a70a-fd02ba403ea4",
   "metadata": {
    "execution": {
     "iopub.status.busy": "2023-03-14T09:56:21.755067Z",
     "iopub.status.idle": "2023-03-14T09:56:21.755067Z",
     "shell.execute_reply": "2023-03-14T09:56:21.755067Z",
     "shell.execute_reply.started": "2023-03-14T09:56:21.755067Z"
    },
    "tags": []
   },
   "outputs": [],
   "source": [
    "# 저장 후 주석처리\n",
    "# type_df3.to_csv(\"D:/MultiCampus/DATAexam/융복합/ConvergenceProject-School_Violence-main/Data/2. Preprocessing_Data/Data/학교알리미_2021_서울_시군구별_학교폭력피해유형.csv\", index=False)"
   ]
  }
 ],
 "metadata": {
  "kernelspec": {
   "display_name": "Python 3 (ipykernel)",
   "language": "python",
   "name": "python3"
  },
  "language_info": {
   "codemirror_mode": {
    "name": "ipython",
    "version": 3
   },
   "file_extension": ".py",
   "mimetype": "text/x-python",
   "name": "python",
   "nbconvert_exporter": "python",
   "pygments_lexer": "ipython3",
   "version": "3.9.15"
  }
 },
 "nbformat": 4,
 "nbformat_minor": 5
}
